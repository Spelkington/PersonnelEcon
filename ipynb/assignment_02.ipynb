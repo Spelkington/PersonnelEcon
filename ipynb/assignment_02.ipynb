{
 "cells": [
  {
   "cell_type": "markdown",
   "source": [
    "# Homework 2\n",
    "*Author: Spencer Elkington*"
   ],
   "metadata": {}
  },
  {
   "cell_type": "markdown",
   "source": [
    "## Problem 1\n",
    "\n",
    "### Part A\n",
    "\n",
    "The most important detail about Jane is that her rates for diminishing returns for both wages and mentorship are weighted the same. This puts Jane in a position where\n",
    "- If she has more of one resource than the other, **she will prefer more of what she has less of**; and\n",
    "- If she has the same amount of both resources, then **the benefit of gaining a unit of one would not offset the loss of a unit of the other**.\n",
    "\n",
    "All three jobs will give Jane 8 total units of resource. However, because MI and QI both offer uneven distributions of wages and mentorship, Jane will prefer EI, which gives the same number of units to both.\n",
    "\n",
    "![](../assets/hw2_icurve.jpg)\n",
    "\n",
    "Jane's indifference curve for receiving 400 utility (which is the utility EI provides her) is displayed above. The loss of mentorship in lieu of higher wages places MI and QI below her current utility. The calculations below confirm that the utility for EI is the highest of the three jobs."
   ],
   "metadata": {}
  },
  {
   "cell_type": "code",
   "execution_count": 1,
   "source": [
    "import numpy as np\n",
    "\n",
    "def cd_calc(coef, x, y, alpha, beta):\n",
    "    \"\"\"\n",
    "    Calculates the Cobb-Douglas utility provided to an actor given\n",
    "    their utility curve and basket of goods.\n",
    "    \"\"\"\n",
    "    return coef * x**alpha * y**beta"
   ],
   "outputs": [],
   "metadata": {}
  },
  {
   "cell_type": "code",
   "execution_count": 2,
   "source": [
    "# Job offers\n",
    "jobs = {\n",
    "    \"EI\": (4, 4),\n",
    "    \"MI\": (5, 3), \n",
    "    \"QI\": (6, 2)\n",
    "}\n",
    "\n",
    "# Utility curve coefficient\n",
    "coef = 100\n",
    "\n",
    "for institution, benefits in jobs.items():\n",
    "    utility = cd_calc(coef, benefits[0], benefits[1], 0.5, 0.5)\n",
    "    print(f\"Utility for {institution}: {utility}\")"
   ],
   "outputs": [
    {
     "output_type": "stream",
     "name": "stdout",
     "text": [
      "Utility for EI: 400.0\n",
      "Utility for MI: 387.2983346207417\n",
      "Utility for QI: 346.41016151377545\n"
     ]
    }
   ],
   "metadata": {}
  },
  {
   "cell_type": "markdown",
   "source": [
    "### **Part B**"
   ],
   "metadata": {}
  },
  {
   "cell_type": "code",
   "execution_count": 3,
   "source": [
    "# Types of people\n",
    "people_types = [\n",
    "    (0.4, 0.6),\n",
    "    (0.5, 0.5),\n",
    "    (0.6, 0.4),\n",
    "    (0.65, 0.35),\n",
    "    (0.7, 0.3),\n",
    "    (0.8, 0.2),\n",
    "]\n",
    "\n",
    "# Calculate utilities for each person at each position\n",
    "for i, person in enumerate(people_types):\n",
    "    utilities = {}\n",
    "    for institution, benefits in jobs.items():\n",
    "        utilities[institution] = cd_calc(\n",
    "            coef = coef, \n",
    "            x = benefits[0],\n",
    "            y = benefits[1],\n",
    "            alpha = person[0],\n",
    "            beta = person[1]\n",
    "        )\n",
    "\n",
    "    # Get the highest utility\n",
    "    max_inst = max(utilities, key=utilities.get)\n",
    "    print(f\"Person {i+1} prefers institution {max_inst}.\")"
   ],
   "outputs": [
    {
     "output_type": "error",
     "ename": "NameError",
     "evalue": "name 'coef' is not defined",
     "traceback": [
      "\u001b[0;31m---------------------------------------------------------------------------\u001b[0m",
      "\u001b[0;31mNameError\u001b[0m                                 Traceback (most recent call last)",
      "\u001b[0;32m<ipython-input-3-8d0c6fdebd8c>\u001b[0m in \u001b[0;36m<module>\u001b[0;34m\u001b[0m\n\u001b[1;32m     14\u001b[0m     \u001b[0;32mfor\u001b[0m \u001b[0minstitution\u001b[0m\u001b[0;34m,\u001b[0m \u001b[0mbenefits\u001b[0m \u001b[0;32min\u001b[0m \u001b[0mjobs\u001b[0m\u001b[0;34m.\u001b[0m\u001b[0mitems\u001b[0m\u001b[0;34m(\u001b[0m\u001b[0;34m)\u001b[0m\u001b[0;34m:\u001b[0m\u001b[0;34m\u001b[0m\u001b[0;34m\u001b[0m\u001b[0m\n\u001b[1;32m     15\u001b[0m         utilities[institution] = cd_calc(\n\u001b[0;32m---> 16\u001b[0;31m             \u001b[0mcoef\u001b[0m \u001b[0;34m=\u001b[0m \u001b[0mcoef\u001b[0m\u001b[0;34m,\u001b[0m\u001b[0;34m\u001b[0m\u001b[0;34m\u001b[0m\u001b[0m\n\u001b[0m\u001b[1;32m     17\u001b[0m             \u001b[0mx\u001b[0m \u001b[0;34m=\u001b[0m \u001b[0mbenefits\u001b[0m\u001b[0;34m[\u001b[0m\u001b[0;36m0\u001b[0m\u001b[0;34m]\u001b[0m\u001b[0;34m,\u001b[0m\u001b[0;34m\u001b[0m\u001b[0;34m\u001b[0m\u001b[0m\n\u001b[1;32m     18\u001b[0m             \u001b[0my\u001b[0m \u001b[0;34m=\u001b[0m \u001b[0mbenefits\u001b[0m\u001b[0;34m[\u001b[0m\u001b[0;36m1\u001b[0m\u001b[0;34m]\u001b[0m\u001b[0;34m,\u001b[0m\u001b[0;34m\u001b[0m\u001b[0;34m\u001b[0m\u001b[0m\n",
      "\u001b[0;31mNameError\u001b[0m: name 'coef' is not defined"
     ]
    }
   ],
   "metadata": {}
  },
  {
   "cell_type": "markdown",
   "source": [
    "### **Part C**\n",
    "\n",
    "Each potential new hire's reaction will be different depending on their type.\n",
    "- **Type 1** weighs mentoring higher than wages and **prefers mentoring**\n",
    "- **Type 2** weighs the two equally, and **prefers an equal mix**\n",
    "- **Types 3 through 6** weighs wages higher than mentoring and **prefers wages.**\n",
    "\n",
    "Overall, 40 out of 60 new hires would prefer higher wages, if resources had to be allocated somewhere."
   ],
   "metadata": {}
  },
  {
   "cell_type": "markdown",
   "source": [
    "### **Part D**\n",
    "\n",
    "Let's say that the company does decide to reallocate more time to mentoring, such that the new distribution is 3 units of wages and 5 units of mentoring. This causes two problems:\n",
    "\n",
    "1. Only Type 1 employees prefer an imbalance skewed towards mentoring. Now, instead of 67% of potential new hires (Types 3-6), Type 2 potential new hires also become dissatisfied and the rejection rate will rise to 83%.\n",
    "2. A move to trade one unit of wages for one unit of mentorship further disatisfies the 67% of your current workforce that prefer wages **and** makes Type 2 individuals indifferent between working at EI versus working at MI, where their utility would be the same."
   ],
   "metadata": {}
  },
  {
   "cell_type": "markdown",
   "source": [
    "## Problem 2"
   ],
   "metadata": {}
  },
  {
   "cell_type": "markdown",
   "source": [
    "### **Part A**\n",
    "\n",
    "The profit equation is as follows:\n",
    "\n",
    "$\\Pi=100\\theta^{0.5}N^{0.15}-C-wN$\n",
    "\n",
    "We should stop hiring workers once the marginal profit of a worker becomes negative. The stopping point is where the derivative of the profit equation with respect to N becomes 0.\n",
    "\n",
    "$\\frac{\\partial \\Pi}{\\partial N}=\\frac{15\\theta^{0.5}}{N^{0.85}} - w$\n",
    "\n",
    "$0=\\frac{15\\theta^{0.5}}{N^{0.85}} - w$\n",
    "\n",
    "$N=(\\frac{15\\theta^{0.5}}{w})^{1.17}$\n",
    "\n",
    "From this equation, we can glean some intuition.\n",
    "- **As the quality of a CEO ($\\theta$) increases**, workers become more marginally profitable and **the equilibrium number of employees rises**.\n",
    "- **As wages increase**, workers become less marginally profitable and **the equilibrium number of employees falls**.\n",
    "- In the given profit equation, **the cost of the CEO does not effect the marginal utility of workers.** This is because, in this equation, the ability of the CEO is not a function of their cost - the only term where cost matters is unrelated to the number of employees to hire."
   ],
   "metadata": {}
  },
  {
   "cell_type": "markdown",
   "source": [
    "### **Part B**\n",
    "\n",
    "Because the ability of the CEO is a term within the marginal utility of additional employees, the choice of CEO does factor into the headcount decision."
   ],
   "metadata": {}
  },
  {
   "cell_type": "markdown",
   "source": [
    "### **Parts C - F**"
   ],
   "metadata": {}
  },
  {
   "cell_type": "code",
   "execution_count": null,
   "source": [
    "def calc_workers(\n",
    "    ceo_coef,\n",
    "    ceo_ability,\n",
    "    ceo_weight,\n",
    "    leadership_weight,\n",
    "    wages\n",
    "):\n",
    "    diff_coef = ceo_coef * leadership_weight\n",
    "    diff_power = (-1 / (leadership_weight - 1))\n",
    "    core_number = (diff_coef * ceo_ability**ceo_weight) / wages\n",
    "    raised_number = core_number ** diff_power\n",
    "\n",
    "    return np.floor(raised_number)"
   ],
   "outputs": [],
   "metadata": {}
  },
  {
   "cell_type": "code",
   "execution_count": null,
   "source": [
    "ceo_coef = 100\n",
    "ceo_weight = 0.5\n",
    "leadership_weight = 0.15\n",
    "wages = 40\n",
    "ceo_abilities = [10, 15, 20, 25]\n",
    "\n",
    "for i, ability in enumerate(ceo_abilities):\n",
    "    workers = calc_workers(\n",
    "        ceo_coef,\n",
    "        ability,\n",
    "        ceo_weight,\n",
    "        leadership_weight,\n",
    "        wages\n",
    "    )\n",
    "\n",
    "    print(f\"CEO {i} should hire {workers} production worker(s)\")\n",
    "\n",
    "# Well - this feels wrong, but I double checked the math."
   ],
   "outputs": [
    {
     "output_type": "stream",
     "name": "stdout",
     "text": [
      "CEO 0 should hire 1.0 production worker(s)\n",
      "CEO 1 should hire 1.0 production worker(s)\n",
      "CEO 2 should hire 1.0 production worker(s)\n",
      "CEO 3 should hire 2.0 production worker(s)\n"
     ]
    }
   ],
   "metadata": {}
  }
 ],
 "metadata": {
  "orig_nbformat": 4,
  "language_info": {
   "name": "python",
   "version": "3.8.8",
   "mimetype": "text/x-python",
   "codemirror_mode": {
    "name": "ipython",
    "version": 3
   },
   "pygments_lexer": "ipython3",
   "nbconvert_exporter": "python",
   "file_extension": ".py"
  },
  "kernelspec": {
   "name": "python3",
   "display_name": "Python 3.8.8 64-bit ('base': conda)"
  },
  "interpreter": {
   "hash": "efbb5f7d76e5561efa460d8a45b55d0b8eb2623c98d4274e36b0d68e9bc5c8fe"
  }
 },
 "nbformat": 4,
 "nbformat_minor": 2
}