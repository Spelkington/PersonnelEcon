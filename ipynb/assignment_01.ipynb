{
    "cells": [
        {
            "cell_type": "markdown",
            "source": [
                "# QAMO: Personnel Economics\n",
                "\n",
                "Author: Spencer Elkington"
            ],
            "metadata": {}
        },
        {
            "cell_type": "markdown",
            "source": [
                "# Part 1: Case Study\n",
                "\n",
                "1. What is Cowen looking for in employees?  How (and why) does Cowen’s ideal employee differ from that of other investment banks?\n",
                "\n",
                "> From the case, a major differentiating point in Cowen's hiring process a primary focus on a candidates who can **start up quick** and **stick around**. >\n",
                "> \n",
                "> Schoenberg's describes the strategies of more name-recognizable firms that pick a core set of business schools and hire associates by the dozen. Because of Cowen's relative lack of name recognition, utilizing the same strategy wouldn't yield the same results. Instead, Cowen focuses on finding valuable candidates wherever they can be found, looking at non-core schools and non-traditional backgrounds to find candidates who can play to unique strengths. Even if a hire with a strong skillset is found, but no position exists within Cowen that plays to that skillset, they've found it can be better to create a new position than to lose out on that talent. By putting the already-existing talent of strong candidates to work, that talent is able to **start up quick** and provide value to the firm with very little onboarding overhead.\n",
                ">\n",
                "> Additionally, Cowen seeks out talent that is unlikely to swap firms. In the listing of their \"maybe\" candidates, a cause of concern among hires is whether or not they're likely to be receiving other offers either now or in the future, or how many other commitments the candidate has. Establishing these qualities as potential red flags allows Cowen to ferret through a talent pool of highly dedicated - and, most importantly, unlikely to churn. Additionally, they structure their hiring process to promote Cowen as a first choice by pulling out stops that a larger firm wouldn't be able to do, such as having potential hires meet with the CEO and senior associates. These stops establish a stronger connection to members of the talent pool and can create more dedicated candidates.\n",
                "\n",
                "2. What is the hiring process used by Cowen? Could this process be improved by adding or removing steps? If so, how?\n",
                "\n",
                "> 1. Visits to core (and, if there are working alumni in Cowen, non-core) schools to detail Cowen's mission, establish the firm as an option to graduates, and run on-campus rounds of interviews.\n",
                "> 2. Candidates are brought in for Super Saturday, where the first have a dinner on Friday night with major players in the firm, and then have five interviews the following day with bankers from the firm. These interviews prioritize firm fit over technical talent, and focus on filtering out candidates of mismatched culture and a creating a holistic analysis of candidates' backgrounds and skillsets.\n",
                "> 3. Candidates are placed in three groups by an aggregate of their interviewers' notes and verdicts: 'yes', 'no', and 'maybe'. 'Yes' candidates are extended offers, 'no' candidates are not, and 'maybe' candidates are discussed further until a set amount of offers have been made.\n",
                ">\n",
                "> Personally, I believe that the scoring system for Step 3 could be improved. Taking a round of \"maybe\" votes and re-discussing them at length feels like an additional step that can be avoided. This two-step process could be brought down to one with a ranking system, where each panelist creates a personal rank order of candidates. These personal rankings can be aggregated into a master rank list, where the top N candidates in the rank order are extended offers. This saves time directly by eliminating the guaranteed second round of decisions, and saves time in a case where not enough candidates accept offers to fill all available positions and the panel would have to re-convene to discuss a tertiary round of offers.\n",
                "\n",
                "3. As a prospective Cowen hire, what actions could you take to improve your chances of being hired? Why exactly do the actions you propose improve your chances?\n",
                "\n",
                "> The largest point of improvement for any candidate would be to specifically highlight interesting, non-investment experiences. Trying to swing a Cowen interview like you would any other big-name investment bank - the standard \"I've wanted to be an investment banker since I was 12\" mentality that the unnamed Cowen HR manager laments in the case - is a sure-fire way to bomb the fit for culture that they look for.\n",
                ">\n",
                "> The CEO of Cowen began as a lawyer and *then* went into banking, but it could hardly be the case that *nothing* about being a lawyer translates to banking. There are certain soft skills in every field that can translate to every other field. When you work enough weird disparate jobs, you come to realize that drive and passion are agnostic to occupation. Bringing up the skills you gained in any seemingly unrelated aspect of your background and then successfully tying htem back into the work Cowen does not only makes you a stronger culture fit, but also makes you a dynamic and interesting person."
            ],
            "metadata": {}
        },
        {
            "cell_type": "markdown",
            "source": [],
            "metadata": {}
        }
    ],
    "metadata": {
        "orig_nbformat": 4,
        "language_info": {
            "name": "python"
        }
    },
    "nbformat": 4,
    "nbformat_minor": 2
}